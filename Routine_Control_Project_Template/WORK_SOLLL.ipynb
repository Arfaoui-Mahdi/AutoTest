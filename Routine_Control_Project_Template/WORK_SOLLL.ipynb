{
 "cells": [
  {
   "cell_type": "code",
   "execution_count": 2,
   "metadata": {},
   "outputs": [],
   "source": [
    "from IPython.core.interactiveshell import InteractiveShell\n",
    "InteractiveShell.ast_node_interactivity = \"all\""
   ]
  },
  {
   "cell_type": "code",
   "execution_count": 3,
   "metadata": {},
   "outputs": [],
   "source": [
    "import AST_Worker"
   ]
  },
  {
   "cell_type": "code",
   "execution_count": 4,
   "metadata": {},
   "outputs": [],
   "source": [
    "import ConvertAndExtractParams"
   ]
  },
  {
   "cell_type": "code",
   "execution_count": 5,
   "metadata": {},
   "outputs": [],
   "source": [
    "import re"
   ]
  },
  {
   "cell_type": "code",
   "execution_count": 6,
   "metadata": {},
   "outputs": [],
   "source": [
    "import func_defs_ast_extractor"
   ]
  },
  {
   "cell_type": "code",
   "execution_count": null,
   "metadata": {},
   "outputs": [],
   "source": []
  },
  {
   "cell_type": "code",
   "execution_count": 7,
   "metadata": {},
   "outputs": [],
   "source": [
    "txtTab = AST_Worker.readNclearGIME() # Building the AST into a List form\n",
    "routineIDs = AST_Worker.extRouIDs(txtTab) # Extracting routine IDs\n",
    "routineAdds = AST_Worker.routAdds(routineIDs,txtTab) # Extracting each routine Add\n",
    "globalCodeBlocks = AST_Worker.routCodeBlock(routineAdds, txtTab) # Extracting each routine AST code Block"
   ]
  },
  {
   "cell_type": "code",
   "execution_count": 8,
   "metadata": {},
   "outputs": [
    {
     "data": {
      "text/plain": [
       "98"
      ]
     },
     "execution_count": 8,
     "metadata": {},
     "output_type": "execute_result"
    },
    {
     "data": {
      "text/plain": [
       "98"
      ]
     },
     "execution_count": 8,
     "metadata": {},
     "output_type": "execute_result"
    }
   ],
   "source": [
    "len(routineIDs)\n",
    "len(globalCodeBlocks)"
   ]
  },
  {
   "cell_type": "code",
   "execution_count": 13,
   "metadata": {},
   "outputs": [
    {
     "name": "stdout",
     "output_type": "stream",
     "text": [
      "[' value', '0xFE00']\n",
      "[' value', '0xFE10']\n",
      "[' value', '0xFE11']\n",
      "[' value', '0xFE12']\n",
      "[' value', '0xFE13']\n",
      "[' value', '0xFE14']\n",
      "[' value', '0xFE15']\n",
      "[' value', '0x0066']\n",
      "[' value', '0x0067']\n",
      "[' value', '0x0070']\n",
      "[' value', '0x0069']\n",
      "[' value', '0x0071']\n",
      "[' value', '0x0072']\n",
      "[' value', '0x0073']\n",
      "[' value', '0x0074']\n",
      "[' value', '0x0075']\n",
      "[' value', '0x0077']\n",
      "[' value', '0x0079']\n",
      "[' value', '0x0076']\n",
      "[' value', '0x0068']\n",
      "[' value', '0x0063']\n",
      "[' value', '0x0060']\n",
      "[' value', '0x0061']\n",
      "[' value', '0x0064']\n",
      "[' value', '0x0065']\n",
      "[' value', '0x0080']\n",
      "[' value', '0x0300']\n",
      "[' value', '0x0304']\n",
      "[' value', '0x0302']\n",
      "[' value', '0x0303']\n",
      "[' value', '0x0305']\n",
      "[' value', '0x0301']\n",
      "[' value', '0x0309']\n",
      "[' value', '0x0307']\n",
      "[' value', '0x0306']\n",
      "[' value', '0x0308']\n",
      "[' value', '0x0020']\n",
      "[' value', '0x0021']\n",
      "[' value', '0x0022']\n",
      "[' value', '0x0023']\n",
      "[' value', '0x0024']\n",
      "[' value', '0x0025']\n",
      "[' value', '0x0026']\n",
      "[' value', '0x0027']\n",
      "[' value', '0x0028']\n",
      "[' value', '0x0029']\n",
      "[' value', '0x002A']\n",
      "[' value', '0x002B']\n",
      "[' value', '0x002C']\n",
      "[' value', '0x002D']\n",
      "[' value', '0x002E']\n",
      "[' value', '0x002F']\n",
      "[' value', '0x0030']\n",
      "[' value', '0x0031']\n",
      "[' value', '0x0032']\n",
      "[' value', '0x0037']\n",
      "[' value', '0x0038']\n",
      "[' value', '0x0039']\n",
      "[' value', '0x003A']\n",
      "[' value', '0x003B']\n",
      "[' value', '0x003C']\n",
      "[' value', '0x003D']\n",
      "[' value', '0x003E']\n",
      "[' value', '0x003F']\n",
      "[' value', '0x0040']\n",
      "[' value', '0x0041']\n",
      "[' value', '0x0042']\n",
      "[' value', '0x0043']\n",
      "[' value', '0x0044']\n",
      "[' value', '0x004E']\n",
      "[' value', '0x004F']\n",
      "[' value', '0x0050']\n",
      "[' value', '0x0051']\n",
      "[' value', '0x0052']\n",
      "[' value', '0x0053']\n",
      "[' value', '0x0054']\n",
      "[' value', '0x0055']\n",
      "[' value', '0x0056']\n",
      "[' value', '0x0057']\n",
      "[' value', '0x0058']\n",
      "[' value', '0x0059']\n",
      "[' value', '0x0200']\n",
      "[' value', '0x0201']\n",
      "[' value', '0x0202']\n",
      "[' value', '0x0600']\n",
      "[' value', '0x0601']\n",
      "[' value', '0x0602']\n",
      "[' value', '0x0603']\n",
      "[' value', '0x0604']\n",
      "[' value', '0x0605']\n",
      "[' value', '0x0606']\n",
      "[' value', '0x0607']\n",
      "[' value', '0x0608']\n",
      "[' value', '0x0609']\n",
      "[' value', '0x060A']\n",
      "[' value', '0x060B']\n",
      "[' value', '0x060C']\n",
      "[' value', '0x060D']\n"
     ]
    }
   ],
   "source": [
    "for i in globalCodeBlocks:\n",
    "    print(i[0])\n"
   ]
  },
  {
   "cell_type": "code",
   "execution_count": null,
   "metadata": {},
   "outputs": [],
   "source": [
    "## Extracting all the functions definitions and insert them into a list\n",
    "\n",
    "import os\n",
    "counter = 1\n",
    "headerS = []\n",
    "headerIndx = []\n",
    "FuncDecl = []\n",
    "count = 0\n",
    "\n",
    "\n",
    "    \n",
    "directory = r'C:\\Users\\Mahdi\\Desktop\\GIT_HUB_Directory_PFE2021\\WORK_Field\\PROO\\Includes\\BSP25119'\n",
    "for filename in os.listdir(directory): # Iterating the whole \"Include\" folder\n",
    "    paath = os.path.join(directory, filename)\n",
    "    txtCode = ConvertAndExtractParams.convCF(paath) # Converting source code into text to explore it\n",
    "    codeList = ConvertAndExtractParams.cleanL(txtCode) # Clean the text and form it into list\n",
    "    for i in codeList:\n",
    "        headerS.append(i)\n",
    "\n",
    "directory = r'C:\\Users\\Mahdi\\Desktop\\GIT_HUB_Directory_PFE2021\\WORK_Field\\PROO\\Includes\\Common'\n",
    "for filename in os.listdir(directory): # Iterating the whole \"Include\" folder\n",
    "    paath = os.path.join(directory, filename)\n",
    "    txtCode = ConvertAndExtractParams.convCF(paath) # Converting source code into text to explore it\n",
    "    codeList = ConvertAndExtractParams.cleanL(txtCode) # Clean the text and form it into list\n",
    "    for i in codeList:\n",
    "        headerS.append(i)\n",
    "    \n",
    "        \n",
    "        \n",
    "for i in range(0,len(headerS)):\n",
    "    \n",
    "    tmp = headerS[i].strip()\n",
    "    verF = tmp[0:6]\n",
    "    if \"extern\" == verF :\n",
    "        if \"extern \\\"C\\\" {\" == headerS[i]: # Parasite to eliminates\n",
    "            continue\n",
    "        headerIndx.append(i) # Store header Index in a list to explore it\n",
    "\n",
    "    \n",
    "            \n",
    "#Moteur 1\n",
    "indBlocks = []            \n",
    "for ind in headerIndx: \n",
    "    tmp = ind\n",
    "    flag = True\n",
    "    while(flag):\n",
    "        #print(headerS[tmp])\n",
    "        if \";\" in headerS[tmp] : \n",
    "            indBlocks.append([ind,tmp+1])\n",
    "            flag = False\n",
    "        else : \n",
    "            tmp = tmp + 1\n",
    "            \n",
    "            \n",
    "#Moteur 2        \n",
    "codeBlock = []\n",
    "for i in indBlocks :\n",
    "    ind = i[0]\n",
    "    col = i[1]\n",
    "    codeBlock.append(headerS[ind:col])\n",
    "            \n",
    "finalFuncDef = []\n",
    "\n",
    "for i in codeBlock : \n",
    "    tt = \"\"\n",
    "    for x in i:\n",
    "        tt = tt + x\n",
    "    finalFuncDef.append(tt)\n",
    "        "
   ]
  },
  {
   "cell_type": "code",
   "execution_count": 10,
   "metadata": {},
   "outputs": [
    {
     "data": {
      "text/plain": [
       "['extern S32_t Configure_CAN_Baudrate(U16_t CAN_ID_u16,U16_t Baudrate_u16_kBd);',\n",
       " 'extern S32_t Set_CAN_Acceptance_Mask(U16_t CAN_ID_u16,U16_t MB_ID_u16,U32_t Acceptante_Mask_u32);',\n",
       " 'extern S32_t Get_CAN_Acceptance_Mask(U16_t CAN_ID_u16,U16_t MB_ID_u16);',\n",
       " 'extern S32_t Configure_CAN_Events(  U16_t CAN_ID_u16,U16_t PRO_ID_u16,CANErrorHandler_t ErrorCallBackAddress_errhndl_p,CANMBHandler_t RxCallBackAddress_mbhndl_p,CANMBHandler_t TxCallBackAddress_mbhndl_p);',\n",
       " 'extern S32_t Enable_CAN_Events(U16_t CAN_ID_u16,U8_t Events_Enabled_u1);',\n",
       " 'extern S32_t Set_CAN_Bus_On(U16_t CAN_ID_u16);',\n",
       " 'extern S32_t Set_CAN_Bus_Off(U16_t CAN_ID_u16);',\n",
       " 'extern S32_t Get_CAN_Status(U16_t CAN_ID_u16);',\n",
       " 'extern S32_t Configure_CAN_MB(U16_t CAN_ID_u16,U16_t MB_ID_u16,U16_t MB_Type_u16,U32_t MB_Frame_ID_u32);',\n",
       " 'extern S32_t Clear_CAN_MB(U16_t CAN_ID_u16,U16_t MB_ID_u16);',\n",
       " 'extern S32_t Assign_Protocol_CAN_MB(U16_t CAN_ID_u16,U16_t MB_ID_u16,U16_t PRO_ID_u16);',\n",
       " 'extern S32_t Enable_CAN_MB_Events(U16_t CAN_ID_u16,U16_t MB_ID_u16,U8_t Events_Enabled_u1);',\n",
       " 'extern S32_t Write_CAN_MB_Data(U16_t CAN_ID_u16,U16_t MB_ID_u16,U8_t Data_Size_u8,U8_p_t Data_Buffer_u8_p);',\n",
       " 'extern S32_t Read_CAN_MB_Status(U16_t CAN_ID_u16,U16_t MB_ID_u16);',\n",
       " 'extern S32_t Read_CAN_MB_Ident(U16_t CAN_ID_u16,U16_t MB_ID_u16,U32_p_t MB_Frame_ID_u32_p);',\n",
       " 'extern S32_t Read_CAN_MB_Data(U16_t CAN_ID_u16,U16_t MB_ID_u16,U8_p_t Data_Buffer_u8_p);',\n",
       " 'extern S32_t Request_CAN_MB_Transmission(U16_t CAN_ID_u16,U16_t MB_ID_u16);',\n",
       " 'extern S32_t Abort_CAN_MB_Transmission(U16_t CAN_ID_u16,U16_t MB_ID_u16);',\n",
       " 'extern S32_t Write_CAN_MB_Ident(U16_t CAN_ID_u16,U16_t MB_ID_u16,U32_t MB_Frame_ID_u32);',\n",
       " 'extern S32_t Configure_LIN_Baudrate(U16_t LIN_ID_u16 , U16_t Baudrate_u16_Bd);',\n",
       " 'extern S32_t Configure_LIN_Events(  U16_t LIN_ID_u16,LINErrorHandler_t ErrorCallBackAddress_u32_p,LINComHandler_t RxCallBackAddress_u32_p,LINComHandler_t TxCallBackAddress_u32_p);',\n",
       " 'extern S32_t Enable_LIN_Events(U16_t LIN_ID_u16,U8_t Events_Enabled_u1);',\n",
       " 'extern S32_t Write_LIN_Frame(U16_t LIN_ID_u16,U8_t LIN_DID_u8,U8_t LIN_Data_Size_u8,U8_t * LIN_Data_u8_p);',\n",
       " 'extern S32_t Read_LIN_Msg_Data(U16_t LIN_ID_u16,U8_t LIN_DID_u8,U8_t * LIN_Data_Size_u8_p,U8_t * LIN_Data_u8_p);',\n",
       " 'extern S32_t Set_LIN_Bus_On(U16_t LIN_ID_u16);',\n",
       " 'extern S32_t Set_LIN_Bus_Off(U16_t LIN_ID_u16);',\n",
       " 'extern S32_t Request_LIN_Transmission(U16_t LIN_ID_u16,U8_t LIN_DID_u8,U16_t LIN_Version_u16);',\n",
       " 'extern S32_t Request_LIN_Reception(U16_t LIN_ID_u16,U8_t LIN_DID_u8,U8_t Data_Size_u8,U16_t LIN_Version_u16);',\n",
       " 'extern S32_t Request_LIN_SlaveReception(U16_t LIN_ID_u16, U8_t Frame_DID_u8, U8_t Data_Size_u8, U16_t Lin_Version_u16 );',\n",
       " 'extern S32_t Write_LIN_SlaveResponse(U16_t LIN_ID_u16 , U8_t Frame_DID_u8 ,U8_t Data_Size_u8 , U8_t *Data_u8_p,U16_t Lin_Version_u16);',\n",
       " 'extern S32_t Configure_LIN(U16_t LIN_ID_u16 , U16_t LIN_Mode_u16 ,U16_t FilterType_u16, U16_t FiltersNumber_u16, FilterListConfig_struct_t* IdList_strcut_p);',\n",
       " 'extern S32_t Read_LIN_Slave_Data(U16_t LIN_ID_u16, U8_t Frame_DID_u8, U8_t * LIN_Data_Size_u8_p ,U8_t * LIN_Data_u8_p);',\n",
       " 'extern S32_t Clear_LIN_Ctrl(U16_t LIN_ID_u16 );',\n",
       " 'extern SWIdent_struct_t CstVersion_eBSPSWIdent; /*extported BSP version*/',\n",
       " 'extern S16_t Get_HWID(U8_t * Data_Buffer_u8p);',\n",
       " 'extern S16_t Get_NAME(NAME_union_t * Name_union_p);',\n",
       " 'extern U8_t Get_SA(void);',\n",
       " 'extern U8_t Get_BaseSA(void);',\n",
       " 'extern U8_t Get_InitPhySA(void);',\n",
       " 'extern U8_t Get_CurrentPhySA(void);',\n",
       " 'extern void BootLoader_Request(U32_t MagicNB_u32);',\n",
       " 'extern void Reset_Request(U32_t MagicNB_u32);',\n",
       " 'extern S32_t Check_SecurityAccess(U8_t * Seed_u8_p,U8_t * Key_u8_p,U16_t Level_u16);',\n",
       " 'extern U64_t Get_CPUExecTime(void);',\n",
       " 'extern U64_t GetQM_CPUExecTime(void);',\n",
       " 'extern S32_t Task_Setup(U8_t TaskId_u8,EventHandler_t TaskAddress_u32_p,U16_t TaskPeriod_u16_ms,U8_t HiPrio_u8,U16_t  Max_Drift_u16);',\n",
       " 'extern S32_t Task_Clear(U8_t TaskId_u8);',\n",
       " 'extern void Task_EnterCritical( void );',\n",
       " 'extern void Task_ExitCritical( void );',\n",
       " 'extern S32_t Internal_Watchdog_Reload(U32_t MagicNB_u32);',\n",
       " 'extern S32_t External_Watchdog_Reload(U32_t MagicNB_u32);',\n",
       " 'extern S32_t PTO_Watchdog_Reload(U32_t MagicNB_u32);',\n",
       " 'extern void Board_ShutDown_Request(U32_t MagicNB_u32);',\n",
       " 'extern S32_t Configure_Wakeup_Source(U16_t * Wakeup_Source_u16);',\n",
       " 'extern S32_t Select_Cal_Page( U8_t Cal_Page_u8);',\n",
       " 'extern void Csm_CallbackNotification(Crypto_JobType* job, Csm_ResultType result);',\n",
       " 'extern void Csm_Init(void);',\n",
       " 'extern U32_t Csm_RandomGenerate(U32_t jobId, U8_t* resultPtr, U32_t* resultLengthPtr);',\n",
       " 'extern U32_t Csm_Encrypt(U32_t jobId, Crypto_OperationModeType mode, const U8_t* dataPtr, U32_t dataLength, U8_t* resultPtr, U32_t* resultLengthPtr);',\n",
       " 'extern U32_t Csm_Decrypt(U32_t jobId, Crypto_OperationModeType mode, const U8_t* dataPtr, U32_t dataLength, U8_t* resultPtr, U32_t* resultLengthPtr);',\n",
       " 'extern U32_t Csm_MacVerify(U32_t jobId,Crypto_OperationModeType mode,const U8_t* dataPtr, U32_t dataLength,const U8_t* macPtr, U32_t macLength,Crypto_VerifyResultType* verifyPtr);',\n",
       " 'extern U32_t Csm_MacGenerate(  U32_t jobId,Crypto_OperationModeType mode,const U8_t* dataPtr,U32_t dataLength,U8_t* macPtr,U32_t* macLengthPtr);',\n",
       " 'extern U32_t Csm_KeyElementSet( U32_t keyId, U32_t keyElementId, const U8_t* keyPtr, U32_t keyLength );',\n",
       " 'extern U32_t Csm_KeyElementGet(U32_t keyId, U32_t keyElementId, U8_t* keyPtr, U32_t* keyLengthPtr);',\n",
       " 'extern U32_t Csm_KeyGenerate(U32_t keyId);',\n",
       " 'extern S32_t Get_Eeprom_Status(void);',\n",
       " 'extern S32_t Read_EEPROM_Data(U16_t Address_u16, U16_t Size_u16, U8_t * Buffer_u8_p);',\n",
       " 'extern S32_t Write_EEPROM_Data(U16_t Address_u16, U16_t Size_u16, U8_t * Buffer_u8_p);',\n",
       " 'extern void Application_Black_Zone_Hook(void);',\n",
       " 'extern U32_t Get_ECU_Status(void);',\n",
       " 'extern U32_t Get_ECU_Failure_Details(void);',\n",
       " 'extern S32_t Configure_Input_Channel(U16_t IO_ID_u16,U16_t Input_Configuration_Set,Input_Config_union_t * Input_Configuration_union_p);',\n",
       " 'extern S32_t Read_Input_Data_With_Error(U16_t IO_ID_u16,U16_t Param_ID_u16,S32_t * Data_s32_p);',\n",
       " 'extern S32_t Read_Input_Data(U16_t IO_ID_u16,U16_t Param_ID_u16);',\n",
       " 'extern S32_t Reset_Channel_Data(U16_t IO_ID_u16,U16_t Param_ID_u16);',\n",
       " 'extern S32_t Configure_Output_Channel(U16_t IO_ID_u16,Output_Config_struct_t * Output_Configuration_structure_p);',\n",
       " 'extern S32_t Configure_Output_Channel_Exp(U16_t IO_ID_u16,Output_Config_struct_t * Output_Configuration_structure_p);   //With load impedance setting',\n",
       " 'extern S32_t Write_Output_Data(U16_t IO_ID_u16,U16_t Param_ID_u16,S32_t Data_Value_s32);',\n",
       " 'extern S32_t Read_Output_Data_With_Error(U16_t IO_ID_u16,U16_t Param_ID_u16,S32_t * Data_s32_p);',\n",
       " 'extern S32_t Read_Output_Data(U16_t IO_ID_u16,U16_t Param_ID_u16);',\n",
       " 'extern S32_t Read_Output_Status(U16_t IO_ID_u16);',\n",
       " 'extern TU32 tu32BInit_eBoardInfo[Du16BInit_InfoSize]; //Export',\n",
       " 'extern void Application_Init_Hook (void);',\n",
       " 'extern void Application_Background_Hook (void);',\n",
       " 'extern const   TstIO_iIOConfig   CtstIO_iInfoTable[Ceu16IO_eNbIO];',\n",
       " 'extern TU8 tu8Main_eFactoryDataCache[Du16Calib_eFactoryDataSize];',\n",
       " 'extern TU32 tu32Main_eCalibrationDataCache[Du16Calib_eAnaMeasCalibDataRecordsSize];',\n",
       " 'extern SSD_CONFIG         \\t\\t\\t\\tstDC55fg_eSSDFlashConfig;',\n",
       " 'extern N256K_BLOCK_SEL    \\t\\t\\t\\tstDC55fg_e256KBlockSelect;',\n",
       " 'extern CONTEXT_DATA       \\t\\t\\t\\tstDC55fg_eEraseDummyCtxData;',\n",
       " 'extern CONTEXT_DATA       \\t\\t\\t\\tstDC55fg_eProgramCtxData;',\n",
       " 'extern PSSD_CONFIG pSSDConfig;',\n",
       " 'extern TS32 s32DInl_eRawPinVal_Get (TU16 Fu16Id);',\n",
       " 'extern TS32 s32DOutl_ePinVal_Set (TU16 Fu16Id, TU8 Fu8Val, TU16 Fu16SyncMode);',\n",
       " 'extern TS32 s32MIO_eSetLock_Exe(TU16 Fu16IOId, TU8 Fu8LockVal);',\n",
       " 'extern void vDCpu_eCacheControl_Exe(TU16 Fu16Enable);',\n",
       " 'extern void vDCpu_ePrefetchControl_Exe(TU16 Fu16Enable);',\n",
       " 'extern PFLASHINIT u32DC55fg_eFlashInit_Exe;',\n",
       " 'extern PFLASHERASE u32DC55fg_eFlashErase_Exe;',\n",
       " 'extern PFLASHPROGRAM u32DC55fg_eFlashProgram_Exe;',\n",
       " 'extern PSETLOCK u32DC55fg_eSetLock_Exe;',\n",
       " 'extern PFLASHCHECKSTATUS u32DC55fg_eFlashCheckStatus_Exe;',\n",
       " 'extern void vDAux_eTask_Exe(void);',\n",
       " 'extern const TstWVersion_eSWIdent CstDoIpLib_eSWIdent;',\n",
       " 'extern TS32 s32WDoip_eInit_Exe( TstWDoip_eConfig *FpstConfig );',\n",
       " 'extern void vWDoip_eSetUpIds_Exe( char FtcVin[], TU8 Ftu8Gid[] );',\n",
       " 'extern void vWDoip_eDiagPower_Set( TU8 Fu8Mode );',\n",
       " 'extern void vWDoip_eRoutClose_Exe( TU16 Fu16TEquAddr );',\n",
       " 'extern TS32 s32WDoip_eDiag_Req( TU16 Fu16DiagLogicAddr, TU16 Fu16TEquAddr, TU8 Ftu8Data[], TU32 Fu32Len );',\n",
       " 'extern void vWDoip_eDoIp_Tsk();',\n",
       " 'extern const TstWVersion_eSWIdent CstTcpIpLib_eSWIdent;',\n",
       " 'extern void vWEthIf_eBg_Tsk( void );',\n",
       " 'extern TS32 s32WEthIf_eConfig_Exe( TU8 u8CtrlId, TU8 u8IpAddr[], TU8 u8IpNetMsk[], TU8 u8IpNetGw[], char pcHostName[], TU8 u8MacAddr[], TU8 u8PhyMode );',\n",
       " 'extern void vWEthIf_eStatus_Get( TU8 Fu8CtrlId, TstWEthIf_eStatus *FpstStatus );',\n",
       " 'extern TstWEthIf_ePBuf * pstWEthIf_ePBufAlloc_Exe( TU16 Fu16Size );',\n",
       " 'extern TstWEthIf_ePBuf * pstWEthIf_ePBufAllocByRef_Exe( TU16 Fu16Size );',\n",
       " 'extern TU8 u8WEthIf_ePBufFree_Exe( TstWEthIf_ePBuf *FpstPBuf );',\n",
       " 'extern void vWEthIf_ePBufCat_Exe( TstWEthIf_ePBuf *FpstPBuf1, TstWEthIf_ePBuf *FpstPBuf2 );',\n",
       " 'extern TstWEthIf_ePBuf *pstWEthIf_ePBufDeChain_Exe( TstWEthIf_ePBuf *FpstPBuf );',\n",
       " 'extern void vWEthIf_ePBufRef_Exe( TstWEthIf_ePBuf *FpstPBuf );',\n",
       " 'extern TS32 s32WEthIf_eTcpListen_Exe( TU8 Fpu8IpAddr[], TU16 Fu16Port, TfnWEthIf_eTcpAccepted FfnTcpAccepted );',\n",
       " 'extern TS32 s32WEthIf_eTcpConnect_Exe( TU8 Fpu8IpAddr[], TU16 Fu16Port, TfnWEthIf_eTcpConnected FfnTcpConnected );',\n",
       " 'extern void vWEthIf_eTcpSetUp_Exe( TpvWEthIf_eTCPPcbHandle FpvPcb, TfnWEthIf_eTcpSent FfnTcpSent, TfnWEthIf_eTcpRecv FfnTcpRcv );',\n",
       " 'extern TS32 s32WEthIf_eTcpSend_Exe( TpvWEthIf_eTCPPcbHandle FpvPcb, void *FpvPayload, TU16 Fu16Size );',\n",
       " 'extern void vWEthIf_eTcpSendOptions_Push( TU8 Fu8Options );',\n",
       " 'extern void vWEthIf_eTcpSendOptions_Pop( void );',\n",
       " 'extern TU32 u32WEthIf_eSendBufSz_Get( TpvWEthIf_eTCPPcbHandle FpvPcb );',\n",
       " 'extern void vWEthIf_eTcpRcvd_Exe( TpvWEthIf_eTCPPcbHandle FpvPcb, TU16 Fu16Len );',\n",
       " 'extern TS32 s32WEthIf_eTcpClose_Exe( TpvWEthIf_eTCPPcbHandle FpvPcb );',\n",
       " 'extern void vWEthIf_eTcpAbort_Exe( TpvWEthIf_eTCPPcbHandle FpvPcb );',\n",
       " 'extern TpvWEthIf_eUDPPcbHandle pstWEthIf_eUdpCreate_Exe( TfnWEthIf_eUdpRecv FfnUdpRcv );',\n",
       " 'extern void vWEthIf_eUdpRemove_Exe( TpvWEthIf_eUDPPcbHandle FpvPcb );',\n",
       " 'extern TS32 s32WEthIf_eUdpBind_Exe( TpvWEthIf_eUDPPcbHandle FpvPcb, TU8 Fpu8IpAddr[], TU16 Fu16Port );',\n",
       " 'extern TS32 s32WEthIf_eUdpConnect_Exe( TpvWEthIf_eUDPPcbHandle FpvPcb, TU8 Fpu8IpAddr[], TU16 Fu16Port );',\n",
       " 'extern TS32 s32WEthIf_eUdpSendTo_Exe( TpvWEthIf_eUDPPcbHandle FpvPcb, TstWEthIf_ePBuf *FpstPBuf, TU8 Fpu8IpAddr[], TU16 Fu16Port );',\n",
       " 'extern TS32 s32WEthIf_eUdpSend_Exe( TpvWEthIf_eUDPPcbHandle FpvPcb, TstWEthIf_ePBuf *FpstPBuf );',\n",
       " 'extern void vWEthIf_eSetFlagPCB_Exe( TpvWEthIf_eTCPPcbHandle FpvPcb , TU8 Fu8Flag );',\n",
       " 'extern void vWEthIf_eResetSetFlagPCB_Exe( TpvWEthIf_eTCPPcbHandle FpvPcb , TU8 Fu8Flag );',\n",
       " 'extern TU32 __PLD_BoardInfo[Du16PLD_BoardInfoSize]; //Export',\n",
       " 'extern const TstWVersion_eSWIdent CstTcpIpLib_eSWIdent;',\n",
       " 'extern void vWEthIf_eBg_Tsk( void );',\n",
       " 'extern TS32 s32WEthIf_eConfig_Exe( TU8 u8IpAddr[], TU8 u8IpNetMsk[], TU8 u8IpNetGw[], char pcHostName[], TU8 u8MacAddr[], TU8 u8PhyMode );',\n",
       " 'extern void vWEthIf_eStatus_Get( TstWEthIf_eStatus *FpstStatus );',\n",
       " 'extern TstWEthIf_ePBuf * pstWEthIf_ePBufAlloc_Exe( TU16 Fu16Size );',\n",
       " 'extern TstWEthIf_ePBuf * pstWEthIf_ePBufAllocByRef_Exe( TU16 Fu16Size );',\n",
       " 'extern TU8 u8WEthIf_ePBufFree_Exe( TstWEthIf_ePBuf *FpstPBuf );',\n",
       " 'extern void vWEthIf_ePBufCat_Exe( TstWEthIf_ePBuf *FpstPBuf1, TstWEthIf_ePBuf *FpstPBuf2 );',\n",
       " 'extern TstWEthIf_ePBuf *pstWEthIf_ePBufDeChain_Exe( TstWEthIf_ePBuf *FpstPBuf );',\n",
       " 'extern void vWEthIf_ePBufRef_Exe( TstWEthIf_ePBuf *FpstPBuf );',\n",
       " 'extern TS32 s32WEthIf_eTcpListen_Exe( TU8 Fpu8IpAddr[], TU16 Fu16Port, TfnWEthIf_eTcpAccepted FfnTcpAccepted );',\n",
       " 'extern TS32 s32WEthIf_eTcpConnect_Exe( TU8 Fpu8IpAddr[], TU16 Fu16Port, TfnWEthIf_eTcpConnected FfnTcpConnected );',\n",
       " 'extern void vWEthIf_eTcpSetUp_Exe( TpvWEthIf_eTCPPcbHandle FpvPcb, TfnWEthIf_eTcpSent FfnTcpSent, TfnWEthIf_eTcpRecv FfnTcpRcv );',\n",
       " 'extern TS32 s32WEthIf_eTcpSend_Exe( TpvWEthIf_eTCPPcbHandle FpvPcb, void *FpvPayload, TU16 Fu16Size );',\n",
       " 'extern void vWEthIf_eTcpSendOptions_Push( TU8 Fu8Options );',\n",
       " 'extern void vWEthIf_eTcpSendOptions_Pop( void );',\n",
       " 'extern TU32 u32WEthIf_eSendBufSz_Get( TpvWEthIf_eTCPPcbHandle FpvPcb );',\n",
       " 'extern void vWEthIf_eTcpRcvd_Exe( TpvWEthIf_eTCPPcbHandle FpvPcb, TU16 Fu16Len );',\n",
       " 'extern TS32 s32WEthIf_eTcpClose_Exe( TpvWEthIf_eTCPPcbHandle FpvPcb );',\n",
       " 'extern void vWEthIf_eTcpAbort_Exe( TpvWEthIf_eTCPPcbHandle FpvPcb );',\n",
       " 'extern TpvWEthIf_eUDPPcbHandle pstWEthIf_eUdpCreate_Exe( TfnWEthIf_eUdpRecv FfnUdpRcv );',\n",
       " 'extern void vWEthIf_eUdpRemove_Exe( TpvWEthIf_eUDPPcbHandle FpvPcb );',\n",
       " 'extern TS32 s32WEthIf_eUdpBind_Exe( TpvWEthIf_eUDPPcbHandle FpvPcb, TU8 Fpu8IpAddr[], TU16 Fu16Port );',\n",
       " 'extern TS32 s32WEthIf_eUdpConnect_Exe( TpvWEthIf_eUDPPcbHandle FpvPcb, TU8 Fpu8IpAddr[], TU16 Fu16Port );',\n",
       " 'extern TS32 s32WEthIf_eUdpSendTo_Exe( TpvWEthIf_eUDPPcbHandle FpvPcb, TstWEthIf_ePBuf *FpstPBuf, TU8 Fpu8IpAddr[], TU16 Fu16Port );',\n",
       " 'extern TS32 s32WEthIf_eUdpSend_Exe( TpvWEthIf_eUDPPcbHandle FpvPcb, TstWEthIf_ePBuf *FpstPBuf );',\n",
       " 'extern void vWEthIf_eSetFlagPCB_Exe( TpvWEthIf_eTCPPcbHandle FpvPcb , TU8 Fu8Flag );',\n",
       " 'extern void vWEthIf_eResetSetFlagPCB_Exe( TpvWEthIf_eTCPPcbHandle FpvPcb , TU8 Fu8Flag );']"
      ]
     },
     "execution_count": 10,
     "metadata": {},
     "output_type": "execute_result"
    }
   ],
   "source": [
    "finalFuncDef"
   ]
  },
  {
   "cell_type": "code",
   "execution_count": 29,
   "metadata": {},
   "outputs": [
    {
     "data": {
      "text/plain": [
       "167"
      ]
     },
     "execution_count": 29,
     "metadata": {},
     "output_type": "execute_result"
    }
   ],
   "source": [
    "len(finalFuncDef)"
   ]
  },
  {
   "cell_type": "code",
   "execution_count": null,
   "metadata": {},
   "outputs": [],
   "source": []
  },
  {
   "cell_type": "code",
   "execution_count": null,
   "metadata": {},
   "outputs": [],
   "source": []
  },
  {
   "cell_type": "code",
   "execution_count": null,
   "metadata": {},
   "outputs": [],
   "source": []
  },
  {
   "cell_type": "code",
   "execution_count": null,
   "metadata": {},
   "outputs": [],
   "source": []
  },
  {
   "cell_type": "code",
   "execution_count": null,
   "metadata": {},
   "outputs": [],
   "source": []
  },
  {
   "cell_type": "code",
   "execution_count": null,
   "metadata": {},
   "outputs": [],
   "source": []
  },
  {
   "cell_type": "code",
   "execution_count": null,
   "metadata": {},
   "outputs": [],
   "source": []
  },
  {
   "cell_type": "code",
   "execution_count": null,
   "metadata": {},
   "outputs": [],
   "source": []
  },
  {
   "cell_type": "code",
   "execution_count": null,
   "metadata": {},
   "outputs": [],
   "source": []
  },
  {
   "cell_type": "code",
   "execution_count": 17,
   "metadata": {},
   "outputs": [
    {
     "name": "stdout",
     "output_type": "stream",
     "text": [
      "[' value', '0x0066']\n",
      "[' value', '0x0067']\n",
      "[' value', '0x0070']\n",
      "[' value', '0x0069']\n",
      "[' value', '0x0071']\n",
      "[' value', '0x0072']\n",
      "[' value', '0x0073']\n",
      "[' value', '0x0074']\n",
      "[' value', '0x0075']\n",
      "[' value', '0x0077']\n",
      "[' value', '0x0079']\n",
      "[' value', '0x0076']\n",
      "[' value', '0x0068']\n",
      "[' value', '0x0063']\n",
      "[' value', '0x0060']\n",
      "[' value', '0x0061']\n",
      "[' value', '0x0064']\n",
      "[' value', '0x0065']\n",
      "[' value', '0x0080']\n",
      "[' value', '0x0300']\n",
      "[' value', '0x0304']\n",
      "[' value', '0x0302']\n",
      "[' value', '0x0303']\n",
      "[' value', '0x0305']\n",
      "[' value', '0x0301']\n",
      "[' value', '0x0301']\n",
      "[' value', '0x0309']\n",
      "[' value', '0x0307']\n",
      "[' value', '0x0306']\n",
      "[' value', '0x0308']\n",
      "[' value', '0x0020']\n",
      "[' value', '0x0021']\n",
      "[' value', '0x0022']\n",
      "[' value', '0x0023']\n",
      "[' value', '0x0024']\n",
      "[' value', '0x0025']\n",
      "[' value', '0x0026']\n",
      "[' value', '0x0027']\n",
      "[' value', '0x0028']\n",
      "[' value', '0x0029']\n",
      "[' value', '0x002A']\n",
      "[' value', '0x002B']\n",
      "[' value', '0x002C']\n",
      "[' value', '0x002D']\n",
      "[' value', '0x002E']\n",
      "[' value', '0x002F']\n",
      "[' value', '0x0030']\n",
      "[' value', '0x0031']\n",
      "[' value', '0x0032']\n",
      "[' value', '0x0037']\n",
      "[' value', '0x0038']\n",
      "[' value', '0x0039']\n",
      "[' value', '0x003A']\n",
      "[' value', '0x003B']\n",
      "[' value', '0x003C']\n",
      "[' value', '0x003D']\n",
      "[' value', '0x003E']\n",
      "[' value', '0x003F']\n",
      "[' value', '0x0040']\n",
      "[' value', '0x0041']\n",
      "[' value', '0x0042']\n",
      "[' value', '0x0043']\n",
      "[' value', '0x0044']\n",
      "[' value', '0x004E']\n",
      "[' value', '0x004F']\n",
      "[' value', '0x0050']\n",
      "[' value', '0x0051']\n",
      "[' value', '0x0052']\n",
      "[' value', '0x0053']\n",
      "[' value', '0x0054']\n",
      "[' value', '0x0055']\n",
      "[' value', '0x0056']\n",
      "[' value', '0x0057']\n",
      "[' value', '0x0058']\n",
      "[' value', '0x0059']\n",
      "[' value', '0x0200']\n",
      "[' value', '0x0201']\n",
      "[' value', '0x0202']\n",
      "[' value', '0x0600']\n",
      "[' value', '0x0601']\n",
      "[' value', '0x0602']\n",
      "[' value', '0x0603']\n",
      "[' value', '0x0604']\n",
      "[' value', '0x0605']\n",
      "[' value', '0x0606']\n",
      "[' value', '0x0607']\n",
      "[' value', '0x0608']\n",
      "[' value', '0x0609']\n",
      "[' value', '0x060A']\n",
      "[' value', '0x060B']\n",
      "[' value', '0x060C']\n",
      "[' value', '0x060D']\n"
     ]
    }
   ],
   "source": [
    "names = []\n",
    "for A in globalCodeBlocks:\n",
    "    for i in range(0 , len(A)):\n",
    "            if len(A[i]) == 2 and (\"FuncCall\" in A[i][1] or \"FuncCall\" in A[i][0]):\n",
    "                print(A[0])\n",
    "                x = A[i+3][1] # the name of the service exist in the third element after this element -- to explore more --\n",
    "                names.append(x) # Extract service names\n",
    "           \n",
    "            "
   ]
  },
  {
   "cell_type": "code",
   "execution_count": 14,
   "metadata": {},
   "outputs": [
    {
     "data": {
      "text/plain": [
       "['BootLoader_Request',\n",
       " 'Reset_Request',\n",
       " 'Task_Setup',\n",
       " 'Get_CPUExecTime',\n",
       " 'Task_Clear',\n",
       " 'Task_EnterCritical',\n",
       " 'Task_ExitCritical',\n",
       " 'Internal_Watchdog_Reload',\n",
       " 'External_Watchdog_Reload',\n",
       " 'Board_ShutDown_Request',\n",
       " 'Configure_Wakeup_Source',\n",
       " 'PTO_Watchdog_Reload',\n",
       " 'Check_SecurityAccess',\n",
       " 'Get_SA',\n",
       " 'Get_HWID',\n",
       " 'Get_NAME',\n",
       " 'Get_InitPhySA',\n",
       " 'Get_CurrentPhySA',\n",
       " 'Get_BaseSA',\n",
       " 'Configure_Input_Channel',\n",
       " 'Configure_Output_Channel',\n",
       " 'Read_Input_Data',\n",
       " 'Reset_Channel_Data',\n",
       " 'Write_Output_Data',\n",
       " 'Read_Input_Data_With_Error',\n",
       " 'Read_Input_Data_With_Error',\n",
       " 'Configure_Output_Channel_Exp',\n",
       " 'Read_Output_Data',\n",
       " 'Read_Output_Data_With_Error',\n",
       " 'Read_Output_Status',\n",
       " 'Configure_CAN_Baudrate',\n",
       " 'Set_CAN_Acceptance_Mask',\n",
       " 'Get_CAN_Acceptance_Mask',\n",
       " 'Configure_CAN_Events',\n",
       " 'Enable_CAN_Events',\n",
       " 'Set_CAN_Bus_On',\n",
       " 'Set_CAN_Bus_Off',\n",
       " 'Get_CAN_Status',\n",
       " 'Configure_CAN_MB',\n",
       " 'Clear_CAN_MB',\n",
       " 'Assign_Protocol_CAN_MB',\n",
       " 'Enable_CAN_MB_Events',\n",
       " 'Write_CAN_MB_Data',\n",
       " 'Read_CAN_MB_Status',\n",
       " 'Read_CAN_MB_Ident',\n",
       " 'Read_CAN_MB_Data',\n",
       " 'Request_CAN_MB_Transmission',\n",
       " 'Abort_CAN_MB_Transmission',\n",
       " 'Write_CAN_MB_Ident',\n",
       " 'Configure_LIN_Baudrate',\n",
       " 'Configure_LIN_Events',\n",
       " 'Enable_LIN_Events',\n",
       " 'Set_LIN_Bus_On',\n",
       " 'Set_LIN_Bus_Off',\n",
       " 'Write_LIN_Frame',\n",
       " 'Read_LIN_Msg_Data',\n",
       " 'Request_LIN_Transmission',\n",
       " 'Request_LIN_Reception',\n",
       " 'Request_LIN_SlaveReception',\n",
       " 'Write_LIN_SlaveResponse',\n",
       " 'Configure_LIN',\n",
       " 'Read_LIN_Slave_Data',\n",
       " 'Clear_LIN_Ctrl',\n",
       " 'Check_ETH_Present',\n",
       " 'Configure_ETH_Interface',\n",
       " 'Enable_ETH_Controller',\n",
       " 'Disable_ETH_Controller',\n",
       " 'Get_ETH_Link_Status',\n",
       " 'Get_ETH_MAC_Adress',\n",
       " 'Get_ETH_Received_Frame',\n",
       " 'Allocate_ETH_Receive_Buffer',\n",
       " 'Deallocate_ETH_Receive_Buffer',\n",
       " 'Acknowledge_ETH_Reception',\n",
       " 'Allocate_ETH_Transmission_Buffer',\n",
       " 'Send_ETH_Transmission_Buffer',\n",
       " 'Get_Eeprom_Status',\n",
       " 'Read_EEPROM_Data',\n",
       " 'Write_EEPROM_Data',\n",
       " 'Csm_Init',\n",
       " 'Csm_RandomGenerate',\n",
       " 'Csm_AEADEncrypt',\n",
       " 'Csm_AEADDecrypt',\n",
       " 'Csm_Hash',\n",
       " 'Csm_SignatureGenerate',\n",
       " 'Csm_SignatureVerify',\n",
       " 'Csm_Encrypt',\n",
       " 'Csm_Decrypt',\n",
       " 'Csm_MacVerify',\n",
       " 'Csm_MacGenerate',\n",
       " 'Csm_KeyElementSet',\n",
       " 'Csm_KeyElementGet',\n",
       " 'Csm_KeyGenerate']"
      ]
     },
     "execution_count": 14,
     "metadata": {},
     "output_type": "execute_result"
    }
   ],
   "source": [
    "names"
   ]
  },
  {
   "cell_type": "code",
   "execution_count": 30,
   "metadata": {},
   "outputs": [
    {
     "data": {
      "text/plain": [
       "92"
      ]
     },
     "execution_count": 30,
     "metadata": {},
     "output_type": "execute_result"
    }
   ],
   "source": [
    "len(names)"
   ]
  },
  {
   "cell_type": "code",
   "execution_count": null,
   "metadata": {},
   "outputs": [],
   "source": []
  },
  {
   "cell_type": "code",
   "execution_count": null,
   "metadata": {},
   "outputs": [],
   "source": []
  },
  {
   "cell_type": "code",
   "execution_count": null,
   "metadata": {},
   "outputs": [],
   "source": []
  },
  {
   "cell_type": "code",
   "execution_count": 15,
   "metadata": {},
   "outputs": [],
   "source": [
    "##################################---DEPRECATED---##############################\n",
    "\n",
    "\n",
    "def extrParms(A): # A is an element of globalCodeBlocks, each element is the AST of a sub-routine\n",
    "    \n",
    "    params = []\n",
    "    count = 0\n",
    "    countA = 0\n",
    "\n",
    "    \n",
    "\n",
    "    FuncDecl = finalFuncDef\n",
    "    for i in names:\n",
    "        for j in range ( 0, len(FuncDecl)): # Verifing the existance of the specified service in the services List\n",
    "            if i in FuncDecl[j]:\n",
    "                print(i)\n",
    "                counter = 1\n",
    "                k = FuncDecl[j]\n",
    "                k = k.strip()\n",
    "                x = k\n",
    "                  \n",
    "                x = re.findall(\"\\(.*\\)\", x) # Extract params of each service - they exist between ( ) -\n",
    "                if x :\n",
    "                    x = x[0].strip()           ##\n",
    "                    x = x.replace(\"(\", \"\")     ## ---\\\n",
    "                    x = x.replace(\")\", \"\")     ##     >Some Cleaning\n",
    "                    x = x.split(\",\")           ## ---/\n",
    "                    for k in range(0, len(x)): ##\n",
    "                        x[k] = x[k].strip()    ## \n",
    "\n",
    "                params.insert(countA, x)\n",
    "                countA += 1\n",
    "\n",
    "    finalParms = []\n",
    "  \n",
    "    for i in range(0,len(names)):\n",
    "        x = [names[i], params[i]]\n",
    "        \n",
    "        finalParms.append(x)\n",
    "    return finalParms\n",
    "\n",
    "\n",
    "\n",
    "\n",
    "        \n"
   ]
  },
  {
   "cell_type": "code",
   "execution_count": null,
   "metadata": {},
   "outputs": [],
   "source": []
  },
  {
   "cell_type": "code",
   "execution_count": null,
   "metadata": {},
   "outputs": [],
   "source": []
  },
  {
   "cell_type": "code",
   "execution_count": null,
   "metadata": {},
   "outputs": [],
   "source": []
  },
  {
   "cell_type": "code",
   "execution_count": 18,
   "metadata": {},
   "outputs": [],
   "source": [
    "def paramsExt(names):\n",
    "    \n",
    "    params = []\n",
    "    count = 0\n",
    "    countA = 0\n",
    "    finalParms = []\n",
    "\n",
    "\n",
    "\n",
    "    for i in names:\n",
    "        for j in range ( 0, len(finalFuncDef)): # Verifing the existance of the specified service in the services List\n",
    "            if i in finalFuncDef[j]:            \n",
    "                k = finalFuncDef[j]\n",
    "                k = k.strip()\n",
    "                x = k\n",
    "\n",
    "                x = re.findall(\"\\(.*\\)\", x) # Extract params of each service - they exist between ( ) -\n",
    "                if x :\n",
    "                    x = x[0].strip()           ##\n",
    "                    x = x.replace(\"(\", \"\")     ## ---\\\n",
    "                    x = x.replace(\")\", \"\")     ##     >Some Cleaning\n",
    "                    x = x.split(\",\")           ## ---/\n",
    "                    for k in range(0, len(x)): ##\n",
    "                        x[k] = x[k].strip()    ## \n",
    "\n",
    "                finalParms.append([i,x])\n",
    "            \n",
    "\n"
   ]
  },
  {
   "cell_type": "code",
   "execution_count": 31,
   "metadata": {},
   "outputs": [
    {
     "data": {
      "text/plain": [
       "[['BootLoader_Request', ['U32_t MagicNB_u32']],\n",
       " ['Reset_Request', ['U32_t MagicNB_u32']],\n",
       " ['Task_Setup',\n",
       "  ['U8_t TaskId_u8',\n",
       "   'EventHandler_t TaskAddress_u32_p',\n",
       "   'U16_t TaskPeriod_u16_ms',\n",
       "   'U8_t HiPrio_u8',\n",
       "   'U16_t  Max_Drift_u16']],\n",
       " ['Get_CPUExecTime', ['void']],\n",
       " ['Task_Clear', ['U8_t TaskId_u8']],\n",
       " ['Task_EnterCritical', ['void']],\n",
       " ['Task_ExitCritical', ['void']],\n",
       " ['Internal_Watchdog_Reload', ['U32_t MagicNB_u32']],\n",
       " ['External_Watchdog_Reload', ['U32_t MagicNB_u32']],\n",
       " ['Board_ShutDown_Request', ['U32_t MagicNB_u32']],\n",
       " ['Configure_Wakeup_Source', ['U16_t * Wakeup_Source_u16']],\n",
       " ['PTO_Watchdog_Reload', ['U32_t MagicNB_u32']],\n",
       " ['Check_SecurityAccess',\n",
       "  ['U8_t * Seed_u8_p', 'U8_t * Key_u8_p', 'U16_t Level_u16']],\n",
       " ['Get_SA', ['void']],\n",
       " ['Get_HWID', ['U8_t * Data_Buffer_u8p']],\n",
       " ['Get_NAME', ['NAME_union_t * Name_union_p']],\n",
       " ['Get_InitPhySA', ['void']],\n",
       " ['Get_CurrentPhySA', ['void']],\n",
       " ['Get_BaseSA', ['void']],\n",
       " ['Configure_Input_Channel',\n",
       "  ['U16_t IO_ID_u16',\n",
       "   'U16_t Input_Configuration_Set',\n",
       "   'Input_Config_union_t * Input_Configuration_union_p']],\n",
       " ['Configure_Output_Channel',\n",
       "  ['U16_t IO_ID_u16',\n",
       "   'Output_Config_struct_t * Output_Configuration_structure_p']],\n",
       " ['Configure_Output_Channel',\n",
       "  ['U16_t IO_ID_u16',\n",
       "   'Output_Config_struct_t * Output_Configuration_structure_p']],\n",
       " ['Read_Input_Data',\n",
       "  ['U16_t IO_ID_u16', 'U16_t Param_ID_u16', 'S32_t * Data_s32_p']],\n",
       " ['Read_Input_Data', ['U16_t IO_ID_u16', 'U16_t Param_ID_u16']],\n",
       " ['Reset_Channel_Data', ['U16_t IO_ID_u16', 'U16_t Param_ID_u16']],\n",
       " ['Write_Output_Data',\n",
       "  ['U16_t IO_ID_u16', 'U16_t Param_ID_u16', 'S32_t Data_Value_s32']],\n",
       " ['Read_Input_Data_With_Error',\n",
       "  ['U16_t IO_ID_u16', 'U16_t Param_ID_u16', 'S32_t * Data_s32_p']],\n",
       " ['Read_Input_Data_With_Error',\n",
       "  ['U16_t IO_ID_u16', 'U16_t Param_ID_u16', 'S32_t * Data_s32_p']],\n",
       " ['Configure_Output_Channel_Exp',\n",
       "  ['U16_t IO_ID_u16',\n",
       "   'Output_Config_struct_t * Output_Configuration_structure_p']],\n",
       " ['Read_Output_Data',\n",
       "  ['U16_t IO_ID_u16', 'U16_t Param_ID_u16', 'S32_t * Data_s32_p']],\n",
       " ['Read_Output_Data', ['U16_t IO_ID_u16', 'U16_t Param_ID_u16']],\n",
       " ['Read_Output_Data_With_Error',\n",
       "  ['U16_t IO_ID_u16', 'U16_t Param_ID_u16', 'S32_t * Data_s32_p']],\n",
       " ['Read_Output_Status', ['U16_t IO_ID_u16']],\n",
       " ['Configure_CAN_Baudrate', ['U16_t CAN_ID_u16', 'U16_t Baudrate_u16_kBd']],\n",
       " ['Set_CAN_Acceptance_Mask',\n",
       "  ['U16_t CAN_ID_u16', 'U16_t MB_ID_u16', 'U32_t Acceptante_Mask_u32']],\n",
       " ['Get_CAN_Acceptance_Mask', ['U16_t CAN_ID_u16', 'U16_t MB_ID_u16']],\n",
       " ['Configure_CAN_Events',\n",
       "  ['U16_t CAN_ID_u16',\n",
       "   'U16_t PRO_ID_u16',\n",
       "   'CANErrorHandler_t ErrorCallBackAddress_errhndl_p',\n",
       "   'CANMBHandler_t RxCallBackAddress_mbhndl_p',\n",
       "   'CANMBHandler_t TxCallBackAddress_mbhndl_p']],\n",
       " ['Enable_CAN_Events', ['U16_t CAN_ID_u16', 'U8_t Events_Enabled_u1']],\n",
       " ['Set_CAN_Bus_On', ['U16_t CAN_ID_u16']],\n",
       " ['Set_CAN_Bus_Off', ['U16_t CAN_ID_u16']],\n",
       " ['Get_CAN_Status', ['U16_t CAN_ID_u16']],\n",
       " ['Configure_CAN_MB',\n",
       "  ['U16_t CAN_ID_u16',\n",
       "   'U16_t MB_ID_u16',\n",
       "   'U16_t MB_Type_u16',\n",
       "   'U32_t MB_Frame_ID_u32']],\n",
       " ['Clear_CAN_MB', ['U16_t CAN_ID_u16', 'U16_t MB_ID_u16']],\n",
       " ['Assign_Protocol_CAN_MB',\n",
       "  ['U16_t CAN_ID_u16', 'U16_t MB_ID_u16', 'U16_t PRO_ID_u16']],\n",
       " ['Enable_CAN_MB_Events',\n",
       "  ['U16_t CAN_ID_u16', 'U16_t MB_ID_u16', 'U8_t Events_Enabled_u1']],\n",
       " ['Write_CAN_MB_Data',\n",
       "  ['U16_t CAN_ID_u16',\n",
       "   'U16_t MB_ID_u16',\n",
       "   'U8_t Data_Size_u8',\n",
       "   'U8_p_t Data_Buffer_u8_p']],\n",
       " ['Read_CAN_MB_Status', ['U16_t CAN_ID_u16', 'U16_t MB_ID_u16']],\n",
       " ['Read_CAN_MB_Ident',\n",
       "  ['U16_t CAN_ID_u16', 'U16_t MB_ID_u16', 'U32_p_t MB_Frame_ID_u32_p']],\n",
       " ['Read_CAN_MB_Data',\n",
       "  ['U16_t CAN_ID_u16', 'U16_t MB_ID_u16', 'U8_p_t Data_Buffer_u8_p']],\n",
       " ['Request_CAN_MB_Transmission', ['U16_t CAN_ID_u16', 'U16_t MB_ID_u16']],\n",
       " ['Abort_CAN_MB_Transmission', ['U16_t CAN_ID_u16', 'U16_t MB_ID_u16']],\n",
       " ['Write_CAN_MB_Ident',\n",
       "  ['U16_t CAN_ID_u16', 'U16_t MB_ID_u16', 'U32_t MB_Frame_ID_u32']],\n",
       " ['Configure_LIN_Baudrate', ['U16_t LIN_ID_u16', 'U16_t Baudrate_u16_Bd']],\n",
       " ['Configure_LIN_Events',\n",
       "  ['U16_t LIN_ID_u16',\n",
       "   'LINErrorHandler_t ErrorCallBackAddress_u32_p',\n",
       "   'LINComHandler_t RxCallBackAddress_u32_p',\n",
       "   'LINComHandler_t TxCallBackAddress_u32_p']],\n",
       " ['Enable_LIN_Events', ['U16_t LIN_ID_u16', 'U8_t Events_Enabled_u1']],\n",
       " ['Set_LIN_Bus_On', ['U16_t LIN_ID_u16']],\n",
       " ['Set_LIN_Bus_Off', ['U16_t LIN_ID_u16']],\n",
       " ['Write_LIN_Frame',\n",
       "  ['U16_t LIN_ID_u16',\n",
       "   'U8_t LIN_DID_u8',\n",
       "   'U8_t LIN_Data_Size_u8',\n",
       "   'U8_t * LIN_Data_u8_p']],\n",
       " ['Read_LIN_Msg_Data',\n",
       "  ['U16_t LIN_ID_u16',\n",
       "   'U8_t LIN_DID_u8',\n",
       "   'U8_t * LIN_Data_Size_u8_p',\n",
       "   'U8_t * LIN_Data_u8_p']],\n",
       " ['Request_LIN_Transmission',\n",
       "  ['U16_t LIN_ID_u16', 'U8_t LIN_DID_u8', 'U16_t LIN_Version_u16']],\n",
       " ['Request_LIN_Reception',\n",
       "  ['U16_t LIN_ID_u16',\n",
       "   'U8_t LIN_DID_u8',\n",
       "   'U8_t Data_Size_u8',\n",
       "   'U16_t LIN_Version_u16']],\n",
       " ['Request_LIN_SlaveReception',\n",
       "  ['U16_t LIN_ID_u16',\n",
       "   'U8_t Frame_DID_u8',\n",
       "   'U8_t Data_Size_u8',\n",
       "   'U16_t Lin_Version_u16']],\n",
       " ['Write_LIN_SlaveResponse',\n",
       "  ['U16_t LIN_ID_u16',\n",
       "   'U8_t Frame_DID_u8',\n",
       "   'U8_t Data_Size_u8',\n",
       "   'U8_t *Data_u8_p',\n",
       "   'U16_t Lin_Version_u16']],\n",
       " ['Configure_LIN', ['U16_t LIN_ID_u16', 'U16_t Baudrate_u16_Bd']],\n",
       " ['Configure_LIN',\n",
       "  ['U16_t LIN_ID_u16',\n",
       "   'LINErrorHandler_t ErrorCallBackAddress_u32_p',\n",
       "   'LINComHandler_t RxCallBackAddress_u32_p',\n",
       "   'LINComHandler_t TxCallBackAddress_u32_p']],\n",
       " ['Configure_LIN',\n",
       "  ['U16_t LIN_ID_u16',\n",
       "   'U16_t LIN_Mode_u16',\n",
       "   'U16_t FilterType_u16',\n",
       "   'U16_t FiltersNumber_u16',\n",
       "   'FilterListConfig_struct_t* IdList_strcut_p']],\n",
       " ['Read_LIN_Slave_Data',\n",
       "  ['U16_t LIN_ID_u16',\n",
       "   'U8_t Frame_DID_u8',\n",
       "   'U8_t * LIN_Data_Size_u8_p',\n",
       "   'U8_t * LIN_Data_u8_p']],\n",
       " ['Clear_LIN_Ctrl', ['U16_t LIN_ID_u16']],\n",
       " ['Get_Eeprom_Status', ['void']],\n",
       " ['Read_EEPROM_Data',\n",
       "  ['U16_t Address_u16', 'U16_t Size_u16', 'U8_t * Buffer_u8_p']],\n",
       " ['Write_EEPROM_Data',\n",
       "  ['U16_t Address_u16', 'U16_t Size_u16', 'U8_t * Buffer_u8_p']],\n",
       " ['Csm_Init', ['void']],\n",
       " ['Csm_RandomGenerate',\n",
       "  ['U32_t jobId', 'U8_t* resultPtr', 'U32_t* resultLengthPtr']],\n",
       " ['Csm_Encrypt',\n",
       "  ['U32_t jobId',\n",
       "   'Crypto_OperationModeType mode',\n",
       "   'const U8_t* dataPtr',\n",
       "   'U32_t dataLength',\n",
       "   'U8_t* resultPtr',\n",
       "   'U32_t* resultLengthPtr']],\n",
       " ['Csm_Decrypt',\n",
       "  ['U32_t jobId',\n",
       "   'Crypto_OperationModeType mode',\n",
       "   'const U8_t* dataPtr',\n",
       "   'U32_t dataLength',\n",
       "   'U8_t* resultPtr',\n",
       "   'U32_t* resultLengthPtr']],\n",
       " ['Csm_MacVerify',\n",
       "  ['U32_t jobId',\n",
       "   'Crypto_OperationModeType mode',\n",
       "   'const U8_t* dataPtr',\n",
       "   'U32_t dataLength',\n",
       "   'const U8_t* macPtr',\n",
       "   'U32_t macLength',\n",
       "   'Crypto_VerifyResultType* verifyPtr']],\n",
       " ['Csm_MacGenerate',\n",
       "  ['U32_t jobId',\n",
       "   'Crypto_OperationModeType mode',\n",
       "   'const U8_t* dataPtr',\n",
       "   'U32_t dataLength',\n",
       "   'U8_t* macPtr',\n",
       "   'U32_t* macLengthPtr']],\n",
       " ['Csm_KeyElementSet',\n",
       "  ['U32_t keyId',\n",
       "   'U32_t keyElementId',\n",
       "   'const U8_t* keyPtr',\n",
       "   'U32_t keyLength']],\n",
       " ['Csm_KeyElementGet',\n",
       "  ['U32_t keyId',\n",
       "   'U32_t keyElementId',\n",
       "   'U8_t* keyPtr',\n",
       "   'U32_t* keyLengthPtr']],\n",
       " ['Csm_KeyGenerate', ['U32_t keyId']]]"
      ]
     },
     "execution_count": 31,
     "metadata": {},
     "output_type": "execute_result"
    }
   ],
   "source": [
    "finalParms"
   ]
  },
  {
   "cell_type": "code",
   "execution_count": 40,
   "metadata": {},
   "outputs": [
    {
     "data": {
      "text/plain": [
       "80"
      ]
     },
     "execution_count": 40,
     "metadata": {},
     "output_type": "execute_result"
    }
   ],
   "source": [
    "len(tess)"
   ]
  },
  {
   "cell_type": "code",
   "execution_count": 34,
   "metadata": {},
   "outputs": [],
   "source": [
    "tess = []\n",
    "for i in finalParms : \n",
    "    tess.append(i[0])"
   ]
  },
  {
   "cell_type": "code",
   "execution_count": 35,
   "metadata": {},
   "outputs": [
    {
     "data": {
      "text/plain": [
       "['BootLoader_Request',\n",
       " 'Reset_Request',\n",
       " 'Task_Setup',\n",
       " 'Get_CPUExecTime',\n",
       " 'Task_Clear',\n",
       " 'Task_EnterCritical',\n",
       " 'Task_ExitCritical',\n",
       " 'Internal_Watchdog_Reload',\n",
       " 'External_Watchdog_Reload',\n",
       " 'Board_ShutDown_Request',\n",
       " 'Configure_Wakeup_Source',\n",
       " 'PTO_Watchdog_Reload',\n",
       " 'Check_SecurityAccess',\n",
       " 'Get_SA',\n",
       " 'Get_HWID',\n",
       " 'Get_NAME',\n",
       " 'Get_InitPhySA',\n",
       " 'Get_CurrentPhySA',\n",
       " 'Get_BaseSA',\n",
       " 'Configure_Input_Channel',\n",
       " 'Configure_Output_Channel',\n",
       " 'Configure_Output_Channel',\n",
       " 'Read_Input_Data',\n",
       " 'Read_Input_Data',\n",
       " 'Reset_Channel_Data',\n",
       " 'Write_Output_Data',\n",
       " 'Read_Input_Data_With_Error',\n",
       " 'Read_Input_Data_With_Error',\n",
       " 'Configure_Output_Channel_Exp',\n",
       " 'Read_Output_Data',\n",
       " 'Read_Output_Data',\n",
       " 'Read_Output_Data_With_Error',\n",
       " 'Read_Output_Status',\n",
       " 'Configure_CAN_Baudrate',\n",
       " 'Set_CAN_Acceptance_Mask',\n",
       " 'Get_CAN_Acceptance_Mask',\n",
       " 'Configure_CAN_Events',\n",
       " 'Enable_CAN_Events',\n",
       " 'Set_CAN_Bus_On',\n",
       " 'Set_CAN_Bus_Off',\n",
       " 'Get_CAN_Status',\n",
       " 'Configure_CAN_MB',\n",
       " 'Clear_CAN_MB',\n",
       " 'Assign_Protocol_CAN_MB',\n",
       " 'Enable_CAN_MB_Events',\n",
       " 'Write_CAN_MB_Data',\n",
       " 'Read_CAN_MB_Status',\n",
       " 'Read_CAN_MB_Ident',\n",
       " 'Read_CAN_MB_Data',\n",
       " 'Request_CAN_MB_Transmission',\n",
       " 'Abort_CAN_MB_Transmission',\n",
       " 'Write_CAN_MB_Ident',\n",
       " 'Configure_LIN_Baudrate',\n",
       " 'Configure_LIN_Events',\n",
       " 'Enable_LIN_Events',\n",
       " 'Set_LIN_Bus_On',\n",
       " 'Set_LIN_Bus_Off',\n",
       " 'Write_LIN_Frame',\n",
       " 'Read_LIN_Msg_Data',\n",
       " 'Request_LIN_Transmission',\n",
       " 'Request_LIN_Reception',\n",
       " 'Request_LIN_SlaveReception',\n",
       " 'Write_LIN_SlaveResponse',\n",
       " 'Configure_LIN',\n",
       " 'Configure_LIN',\n",
       " 'Configure_LIN',\n",
       " 'Read_LIN_Slave_Data',\n",
       " 'Clear_LIN_Ctrl',\n",
       " 'Get_Eeprom_Status',\n",
       " 'Read_EEPROM_Data',\n",
       " 'Write_EEPROM_Data',\n",
       " 'Csm_Init',\n",
       " 'Csm_RandomGenerate',\n",
       " 'Csm_Encrypt',\n",
       " 'Csm_Decrypt',\n",
       " 'Csm_MacVerify',\n",
       " 'Csm_MacGenerate',\n",
       " 'Csm_KeyElementSet',\n",
       " 'Csm_KeyElementGet',\n",
       " 'Csm_KeyGenerate']"
      ]
     },
     "execution_count": 35,
     "metadata": {},
     "output_type": "execute_result"
    }
   ],
   "source": [
    "tess"
   ]
  },
  {
   "cell_type": "code",
   "execution_count": 36,
   "metadata": {},
   "outputs": [],
   "source": [
    "def Diff(li1, li2):\n",
    "    return (list(list(set(li1)-set(li2)) + list(set(li2)-set(li1))))"
   ]
  },
  {
   "cell_type": "code",
   "execution_count": 37,
   "metadata": {},
   "outputs": [],
   "source": [
    "tu = []\n",
    "tu = Diff(names,tess)"
   ]
  },
  {
   "cell_type": "code",
   "execution_count": 38,
   "metadata": {},
   "outputs": [
    {
     "data": {
      "text/plain": [
       "['Get_ETH_Link_Status',\n",
       " 'Check_ETH_Present',\n",
       " 'Allocate_ETH_Transmission_Buffer',\n",
       " 'Deallocate_ETH_Receive_Buffer',\n",
       " 'Csm_AEADEncrypt',\n",
       " 'Acknowledge_ETH_Reception',\n",
       " 'Csm_SignatureVerify',\n",
       " 'Configure_ETH_Interface',\n",
       " 'Csm_SignatureGenerate',\n",
       " 'Allocate_ETH_Receive_Buffer',\n",
       " 'Csm_AEADDecrypt',\n",
       " 'Send_ETH_Transmission_Buffer',\n",
       " 'Enable_ETH_Controller',\n",
       " 'Disable_ETH_Controller',\n",
       " 'Get_ETH_Received_Frame',\n",
       " 'Csm_Hash',\n",
       " 'Get_ETH_MAC_Adress']"
      ]
     },
     "execution_count": 38,
     "metadata": {},
     "output_type": "execute_result"
    }
   ],
   "source": [
    "tu"
   ]
  },
  {
   "cell_type": "code",
   "execution_count": 39,
   "metadata": {},
   "outputs": [
    {
     "data": {
      "text/plain": [
       "17"
      ]
     },
     "execution_count": 39,
     "metadata": {},
     "output_type": "execute_result"
    }
   ],
   "source": [
    "len(tu)"
   ]
  },
  {
   "cell_type": "code",
   "execution_count": null,
   "metadata": {},
   "outputs": [],
   "source": []
  },
  {
   "cell_type": "code",
   "execution_count": 19,
   "metadata": {},
   "outputs": [],
   "source": [
    "FINAAL = []\n",
    "mylist = []\n",
    "for i in mylist:\n",
    "    for j in finalParms:\n",
    "        if i == j[0] : \n",
    "            FINAAL.append(j)\n",
    "            break"
   ]
  },
  {
   "cell_type": "code",
   "execution_count": 20,
   "metadata": {
    "scrolled": false
   },
   "outputs": [
    {
     "data": {
      "text/plain": [
       "[]"
      ]
     },
     "execution_count": 20,
     "metadata": {},
     "output_type": "execute_result"
    }
   ],
   "source": [
    "FINAAL\n"
   ]
  },
  {
   "cell_type": "code",
   "execution_count": null,
   "metadata": {},
   "outputs": [],
   "source": []
  },
  {
   "cell_type": "code",
   "execution_count": null,
   "metadata": {},
   "outputs": [],
   "source": []
  },
  {
   "cell_type": "code",
   "execution_count": null,
   "metadata": {},
   "outputs": [],
   "source": []
  },
  {
   "cell_type": "code",
   "execution_count": 21,
   "metadata": {},
   "outputs": [
    {
     "data": {
      "text/plain": [
       "list"
      ]
     },
     "execution_count": 21,
     "metadata": {},
     "output_type": "execute_result"
    }
   ],
   "source": [
    "type(finalParms)"
   ]
  },
  {
   "cell_type": "code",
   "execution_count": 22,
   "metadata": {},
   "outputs": [],
   "source": [
    "mylist = []\n",
    "for i in finalParms:\n",
    "    if i[0] not in mylist:\n",
    "        mylist.append(i[0])\n",
    "    "
   ]
  },
  {
   "cell_type": "markdown",
   "metadata": {},
   "source": [
    "# There is duplications in term of sub-routines cause they exist in more than one header file (DONE)"
   ]
  },
  {
   "cell_type": "code",
   "execution_count": 23,
   "metadata": {},
   "outputs": [
    {
     "name": "stdout",
     "output_type": "stream",
     "text": [
      "BootLoader_Request\n",
      "Reset_Request\n",
      "Task_Setup\n",
      "Get_CPUExecTime\n",
      "Task_Clear\n",
      "Task_EnterCritical\n",
      "Task_ExitCritical\n",
      "Internal_Watchdog_Reload\n",
      "External_Watchdog_Reload\n",
      "Board_ShutDown_Request\n",
      "Configure_Wakeup_Source\n",
      "PTO_Watchdog_Reload\n",
      "Check_SecurityAccess\n",
      "Get_SA\n",
      "Get_HWID\n",
      "Get_NAME\n",
      "Get_InitPhySA\n",
      "Get_CurrentPhySA\n",
      "Get_BaseSA\n",
      "Configure_Input_Channel\n",
      "Configure_Output_Channel\n",
      "Read_Input_Data\n",
      "Reset_Channel_Data\n",
      "Write_Output_Data\n",
      "Read_Input_Data_With_Error\n",
      "Configure_Output_Channel_Exp\n",
      "Read_Output_Data\n",
      "Read_Output_Data_With_Error\n",
      "Read_Output_Status\n",
      "Configure_CAN_Baudrate\n",
      "Set_CAN_Acceptance_Mask\n",
      "Get_CAN_Acceptance_Mask\n",
      "Configure_CAN_Events\n",
      "Enable_CAN_Events\n",
      "Set_CAN_Bus_On\n",
      "Set_CAN_Bus_Off\n",
      "Get_CAN_Status\n",
      "Configure_CAN_MB\n",
      "Clear_CAN_MB\n",
      "Assign_Protocol_CAN_MB\n",
      "Enable_CAN_MB_Events\n",
      "Write_CAN_MB_Data\n",
      "Read_CAN_MB_Status\n",
      "Read_CAN_MB_Ident\n",
      "Read_CAN_MB_Data\n",
      "Request_CAN_MB_Transmission\n",
      "Abort_CAN_MB_Transmission\n",
      "Write_CAN_MB_Ident\n",
      "Configure_LIN_Baudrate\n",
      "Configure_LIN_Events\n",
      "Enable_LIN_Events\n",
      "Set_LIN_Bus_On\n",
      "Set_LIN_Bus_Off\n",
      "Write_LIN_Frame\n",
      "Read_LIN_Msg_Data\n",
      "Request_LIN_Transmission\n",
      "Request_LIN_Reception\n",
      "Request_LIN_SlaveReception\n",
      "Write_LIN_SlaveResponse\n",
      "Configure_LIN\n",
      "Read_LIN_Slave_Data\n",
      "Clear_LIN_Ctrl\n",
      "Get_Eeprom_Status\n",
      "Read_EEPROM_Data\n",
      "Write_EEPROM_Data\n",
      "Csm_Init\n",
      "Csm_RandomGenerate\n",
      "Csm_Encrypt\n",
      "Csm_Decrypt\n",
      "Csm_MacVerify\n",
      "Csm_MacGenerate\n",
      "Csm_KeyElementSet\n",
      "Csm_KeyElementGet\n",
      "Csm_KeyGenerate\n"
     ]
    },
    {
     "data": {
      "text/plain": [
       "74"
      ]
     },
     "execution_count": 23,
     "metadata": {},
     "output_type": "execute_result"
    }
   ],
   "source": [
    "for i in mylist:\n",
    "    print(i)\n",
    "len(mylist)\n"
   ]
  },
  {
   "cell_type": "code",
   "execution_count": null,
   "metadata": {},
   "outputs": [],
   "source": []
  },
  {
   "cell_type": "code",
   "execution_count": 24,
   "metadata": {},
   "outputs": [],
   "source": [
    "FF = []\n",
    "for i in range(0,len(FINAAL)):\n",
    "    FF.append([names[i], FINAAL[i]])"
   ]
  },
  {
   "cell_type": "code",
   "execution_count": 25,
   "metadata": {},
   "outputs": [
    {
     "data": {
      "text/plain": [
       "[]"
      ]
     },
     "execution_count": 25,
     "metadata": {},
     "output_type": "execute_result"
    }
   ],
   "source": [
    "FF"
   ]
  },
  {
   "cell_type": "code",
   "execution_count": null,
   "metadata": {},
   "outputs": [],
   "source": []
  },
  {
   "cell_type": "code",
   "execution_count": null,
   "metadata": {},
   "outputs": [],
   "source": [
    "\n"
   ]
  },
  {
   "cell_type": "code",
   "execution_count": null,
   "metadata": {},
   "outputs": [],
   "source": []
  },
  {
   "cell_type": "code",
   "execution_count": null,
   "metadata": {},
   "outputs": [],
   "source": []
  },
  {
   "cell_type": "code",
   "execution_count": 26,
   "metadata": {},
   "outputs": [
    {
     "ename": "SyntaxError",
     "evalue": "(unicode error) 'unicodeescape' codec can't decode bytes in position 2-3: truncated \\UXXXXXXXX escape (<ipython-input-26-14ebd2aeda86>, line 1)",
     "output_type": "error",
     "traceback": [
      "\u001b[1;36m  File \u001b[1;32m\"<ipython-input-26-14ebd2aeda86>\"\u001b[1;36m, line \u001b[1;32m1\u001b[0m\n\u001b[1;33m    headerCode = ConvertAndExtractParams.convCF('C:\\Users\\Mahdi\\Desktop\\GIT_HUB_Directory_PFE2021\\WORK_Field\\PROO\\Sources\\doc_app\\doc_app_cfg.h') # Entering the header file to explore it\u001b[0m\n\u001b[1;37m                                                                                                                                                ^\u001b[0m\n\u001b[1;31mSyntaxError\u001b[0m\u001b[1;31m:\u001b[0m (unicode error) 'unicodeescape' codec can't decode bytes in position 2-3: truncated \\UXXXXXXXX escape\n"
     ]
    }
   ],
   "source": [
    "headerCode = ConvertAndExtractParams.convCF('C:\\Users\\Mahdi\\Desktop\\GIT_HUB_Directory_PFE2021\\WORK_Field\\PROO\\Sources\\doc_app\\doc_app_cfg.h') # Entering the header file to explore it\n",
    "headerCodeList = ConvertAndExtractParams.cleanL(headerCode) # Convert and Clean the header file List to explore it\n",
    "\n",
    "Finalll = []\n",
    "count = 1\n",
    "\n",
    "for i in range(0,len(FINAAL)):\n",
    "    for j in headerCodeList:\n",
    "        if routineIDs[i] in j:\n",
    "            print(count)\n",
    "            Finalll.append([j, FINAAL[i]])    \n",
    "            count += 1"
   ]
  },
  {
   "cell_type": "code",
   "execution_count": 27,
   "metadata": {},
   "outputs": [
    {
     "ename": "NameError",
     "evalue": "name 'Finalll' is not defined",
     "output_type": "error",
     "traceback": [
      "\u001b[1;31m---------------------------------------------------------------------------\u001b[0m",
      "\u001b[1;31mNameError\u001b[0m                                 Traceback (most recent call last)",
      "\u001b[1;32m<ipython-input-27-13105121dd8f>\u001b[0m in \u001b[0;36m<module>\u001b[1;34m\u001b[0m\n\u001b[1;32m----> 1\u001b[1;33m \u001b[1;32mfor\u001b[0m \u001b[0mi\u001b[0m \u001b[1;32min\u001b[0m \u001b[0mFinalll\u001b[0m \u001b[1;33m:\u001b[0m\u001b[1;33m\u001b[0m\u001b[1;33m\u001b[0m\u001b[0m\n\u001b[0m\u001b[0;32m      2\u001b[0m     \u001b[0mprint\u001b[0m\u001b[1;33m(\u001b[0m\u001b[0mi\u001b[0m\u001b[1;33m)\u001b[0m\u001b[1;33m\u001b[0m\u001b[1;33m\u001b[0m\u001b[0m\n\u001b[0;32m      3\u001b[0m     \u001b[0mprint\u001b[0m\u001b[1;33m(\u001b[0m\u001b[1;34m\"\\n\\n\"\u001b[0m\u001b[1;33m)\u001b[0m\u001b[1;33m\u001b[0m\u001b[1;33m\u001b[0m\u001b[0m\n",
      "\u001b[1;31mNameError\u001b[0m: name 'Finalll' is not defined"
     ]
    }
   ],
   "source": [
    "for i in Finalll : \n",
    "    print(i)\n",
    "    print(\"\\n\\n\")"
   ]
  },
  {
   "cell_type": "code",
   "execution_count": 28,
   "metadata": {},
   "outputs": [
    {
     "ename": "NameError",
     "evalue": "name 'Finalll' is not defined",
     "output_type": "error",
     "traceback": [
      "\u001b[1;31m---------------------------------------------------------------------------\u001b[0m",
      "\u001b[1;31mNameError\u001b[0m                                 Traceback (most recent call last)",
      "\u001b[1;32m<ipython-input-28-1a02ea8711bc>\u001b[0m in \u001b[0;36m<module>\u001b[1;34m\u001b[0m\n\u001b[1;32m----> 1\u001b[1;33m \u001b[0mlen\u001b[0m\u001b[1;33m(\u001b[0m\u001b[0mFinalll\u001b[0m\u001b[1;33m)\u001b[0m\u001b[1;33m\u001b[0m\u001b[1;33m\u001b[0m\u001b[0m\n\u001b[0m",
      "\u001b[1;31mNameError\u001b[0m: name 'Finalll' is not defined"
     ]
    }
   ],
   "source": [
    "len(Finalll)"
   ]
  },
  {
   "cell_type": "code",
   "execution_count": null,
   "metadata": {},
   "outputs": [],
   "source": []
  },
  {
   "cell_type": "code",
   "execution_count": null,
   "metadata": {},
   "outputs": [],
   "source": []
  }
 ],
 "metadata": {
  "kernelspec": {
   "display_name": "Python 3",
   "language": "python",
   "name": "python3"
  },
  "language_info": {
   "codemirror_mode": {
    "name": "ipython",
    "version": 3
   },
   "file_extension": ".py",
   "mimetype": "text/x-python",
   "name": "python",
   "nbconvert_exporter": "python",
   "pygments_lexer": "ipython3",
   "version": "3.9.2"
  }
 },
 "nbformat": 4,
 "nbformat_minor": 2
}
